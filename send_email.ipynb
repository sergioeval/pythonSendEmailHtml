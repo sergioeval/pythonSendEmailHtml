{
 "cells": [
  {
   "cell_type": "markdown",
   "metadata": {},
   "source": [
    "# Function to send emails without CC"
   ]
  },
  {
   "cell_type": "code",
   "execution_count": 1,
   "metadata": {},
   "outputs": [],
   "source": [
    "#%%libraries \n",
    "\n",
    "import smtplib\n",
    "from email.mime.multipart import MIMEMultipart\n",
    "from email.mime.base import MIMEBase\n",
    "from email.mime.text import MIMEText\n",
    "from email.mime.image import MIMEImage\n",
    "from email.utils import COMMASPACE, formatdate\n",
    "from email import encoders\n",
    "import random\n",
    "import time\n",
    "import os\n",
    "#%% functions \n",
    "\n",
    "\n"
   ]
  },
  {
   "cell_type": "code",
   "execution_count": 2,
   "metadata": {},
   "outputs": [],
   "source": [
    "# functio to generate a message id \n",
    "def generate_message_id(msg_from):\n",
    "    domain = msg_from.split(\"@\")[1]\n",
    "    r = \"%s.%s\" % (time.time(), random.randint(0, 100))\n",
    "    mid = \"<%s@%s>\" % (r, domain)\n",
    "    return mid"
   ]
  },
  {
   "cell_type": "code",
   "execution_count": 3,
   "metadata": {},
   "outputs": [],
   "source": [
    "# function with out cc \n",
    "\n",
    "def send_mail_html(msg_from, to, subject, text, files = None, picture=None, debug=False):\n",
    "\n",
    "    msg = MIMEMultipart()\n",
    "    msg['From'] = msg_from\n",
    "    msg['To'] = to\n",
    "    msg['Date'] = formatdate(localtime=True)\n",
    "    msg['Subject'] = subject\n",
    "\n",
    "    #text = text.encode(\"utf-8\")\n",
    "   \n",
    "    for i in text:\n",
    "        texto = MIMEText(i, 'html')\n",
    "        msg.attach(texto)\n",
    "\n",
    "    msg.add_header('Message-ID', generate_message_id(msg_from))\n",
    "    \n",
    "    # adding files\n",
    "    if files == None:\n",
    "        pass\n",
    "    else:\n",
    "        for file in files:\n",
    "            part = MIMEBase('application', \"octet-stream\")\n",
    "            part.set_payload( open(file,\"rb\").read() )\n",
    "            encoders.encode_base64(part)\n",
    "            part.add_header('Content-Disposition', 'attachment; filename=\"%s\"'\n",
    "                           % os.path.basename(file))\n",
    "            msg.attach(part)\n",
    "    \n",
    "    #adding image \n",
    "    if picture == None:\n",
    "        pass\n",
    "    else:\n",
    "        fp = open(picture, 'rb')\n",
    "        msgImage = MIMEImage(fp.read())\n",
    "        fp.close()\n",
    "    \n",
    "        msgImage.add_header('Content-ID', '<image1>')\n",
    "        msg.attach(msgImage)\n",
    "\n",
    "    if not debug:\n",
    "        server = smtplib.SMTP('HOSTNAME_SERVER', 25)\n",
    "        server.starttls()\n",
    "        text = msg.as_string()\n",
    "        server.sendmail(msg_from, to, text)\n",
    "        server.close()\n",
    "\n",
    "    return msg"
   ]
  },
  {
   "cell_type": "markdown",
   "metadata": {},
   "source": [
    "# Send email test"
   ]
  },
  {
   "cell_type": "code",
   "execution_count": 4,
   "metadata": {},
   "outputs": [],
   "source": [
    "# body \n",
    "\n",
    "html_1 = '''\n",
    "<!DOCTYPE html>\n",
    "<html lang=\"en\" dir=\"ltr\">\n",
    "  <head>\n",
    "    <meta charset=\"utf-8\">\n",
    "    <title></title>\n",
    "  </head>\n",
    "  <body>\n",
    "    <img src=\"cid:image1\" alt=\"\">\n",
    "\n",
    "    <div class=\"\" >\n",
    "      <h3>\n",
    "        <p>Revision: </p>\n",
    "\n",
    "        <p>It comes to our attention that you have the following devices running Windows 7: </p>\n",
    "\n",
    "\n",
    "      </h3>\n",
    "    </div>\n",
    "\n",
    "  </body>\n",
    "</html>\n",
    "\n",
    "'''\n"
   ]
  },
  {
   "cell_type": "code",
   "execution_count": 5,
   "metadata": {},
   "outputs": [],
   "source": [
    "# body 2 \n",
    "\n",
    "html2 = '''\n",
    "<!DOCTYPE html>\n",
    "<html lang=\"en\" dir=\"ltr\">\n",
    "  <head>\n",
    "    <meta charset=\"utf-8\">\n",
    "    <title></title>\n",
    "  </head>\n",
    "  <body>\n",
    "\n",
    "    <div class=\"\" >\n",
    "      <h3>\n",
    "          <p>Microsoft is ending support for Windows 7 which presents a major security risk for IBM. Therefore,\n",
    "            all devices running Windows 7 must be returned to IBM. </p>\n",
    "          <p>Take action now by referring to <a href=\"https://w3.ibm.com/help/ui/#/article/eamt_return\">Return a Computer or Device</a>.\n",
    "            If you have already returned your device(s), need to keep it, or received this email in error, <a href=\"https://devices.w3cloud.ibm.com/devices/#/\">let us know</a>.  </p>\n",
    "          <p>You will continue to receive reminders until the device(s) have been returned.\n",
    "            Your manager will be copied on all future reminders.</p>\n",
    "      </h3>\n",
    "    </div>\n",
    "\n",
    "  </body>\n",
    "</html>\n",
    "\n",
    "'''"
   ]
  },
  {
   "cell_type": "code",
   "execution_count": 6,
   "metadata": {},
   "outputs": [],
   "source": [
    "body = [html_1, html2]"
   ]
  },
  {
   "cell_type": "code",
   "execution_count": 7,
   "metadata": {},
   "outputs": [],
   "source": [
    "mail_image = 'mail_image/return_img.PNG'\n"
   ]
  },
  {
   "cell_type": "code",
   "execution_count": 8,
   "metadata": {},
   "outputs": [
    {
     "data": {
      "text/plain": [
       "<email.mime.multipart.MIMEMultipart at 0x2121b136188>"
      ]
     },
     "execution_count": 8,
     "metadata": {},
     "output_type": "execute_result"
    }
   ],
   "source": [
    "send_mail_html(msg_from='mail@mail.com',\n",
    "              to='mail@mail.com',\n",
    "               subject='test mail wout cc', \n",
    "              text=body)"
   ]
  },
  {
   "cell_type": "markdown",
   "metadata": {},
   "source": [
    "# Function to send email with CC "
   ]
  },
  {
   "cell_type": "code",
   "execution_count": 16,
   "metadata": {},
   "outputs": [],
   "source": [
    "# function with out cc \n",
    "\n",
    "def send_mail_html_cc(msg_from, to, cc, subject, text, files = None, picture=None, debug=False):\n",
    "\n",
    "    msg = MIMEMultipart()\n",
    "    msg['From'] = msg_from\n",
    "    msg['To'] = to\n",
    "    msg['Cc'] = cc\n",
    "    msg['Date'] = formatdate(localtime=True)\n",
    "    msg['Subject'] = subject\n",
    "\n",
    "    for i in text:\n",
    "        texto = MIMEText(i, 'html')\n",
    "        msg.attach(texto)\n",
    "\n",
    "    msg.add_header('Message-ID', generate_message_id(msg_from))\n",
    "    \n",
    "    # adding files\n",
    "    if files == None:\n",
    "        pass\n",
    "    else:\n",
    "        for file in files:\n",
    "            part = MIMEBase('application', \"octet-stream\")\n",
    "            part.set_payload( open(file,\"rb\").read() )\n",
    "            encoders.encode_base64(part)\n",
    "            part.add_header('Content-Disposition', 'attachment; filename=\"%s\"'\n",
    "                           % os.path.basename(file))\n",
    "            msg.attach(part)\n",
    "    \n",
    "    #adding image \n",
    "    if picture == None:\n",
    "        pass\n",
    "    else:\n",
    "        fp = open(picture, 'rb')\n",
    "        msgImage = MIMEImage(fp.read())\n",
    "        fp.close()\n",
    "    \n",
    "        msgImage.add_header('Content-ID', '<image1>')\n",
    "        msg.attach(msgImage)\n",
    "    \n",
    "    #recipients \n",
    "    rec = [to]+ cc.split(',')\n",
    "    \n",
    "    if not debug:\n",
    "        server = smtplib.SMTP('HOSTNAME_SERVER', 25)\n",
    "        server.starttls()\n",
    "        text = msg.as_string()\n",
    "        server.sendmail(msg_from, rec, text)\n",
    "        server.close()\n",
    "\n",
    "    return msg"
   ]
  },
  {
   "cell_type": "code",
   "execution_count": 18,
   "metadata": {},
   "outputs": [
    {
     "data": {
      "text/plain": [
       "<email.mime.multipart.MIMEMultipart at 0x14dd511dd88>"
      ]
     },
     "execution_count": 18,
     "metadata": {},
     "output_type": "execute_result"
    }
   ],
   "source": [
    "send_mail_html_cc(msg_from='youremail@mx1.ibm.com',\n",
    "              to='youremail@mx1.ibm.com',\n",
    "                  cc='otheremail@gmail.com, otheremail@mx1.ibm.com',\n",
    "               subject='test mail with cc', \n",
    "              text=body)"
   ]
  },
  {
   "cell_type": "code",
   "execution_count": null,
   "metadata": {},
   "outputs": [],
   "source": []
  },
  {
   "cell_type": "code",
   "execution_count": null,
   "metadata": {},
   "outputs": [],
   "source": []
  },
  {
   "cell_type": "code",
   "execution_count": null,
   "metadata": {},
   "outputs": [],
   "source": []
  },
  {
   "cell_type": "code",
   "execution_count": null,
   "metadata": {},
   "outputs": [],
   "source": []
  }
 ],
 "metadata": {
  "kernelspec": {
   "display_name": "Python 3",
   "language": "python",
   "name": "python3"
  },
  "language_info": {
   "codemirror_mode": {
    "name": "ipython",
    "version": 3
   },
   "file_extension": ".py",
   "mimetype": "text/x-python",
   "name": "python",
   "nbconvert_exporter": "python",
   "pygments_lexer": "ipython3",
   "version": "3.7.7"
  }
 },
 "nbformat": 4,
 "nbformat_minor": 4
}
